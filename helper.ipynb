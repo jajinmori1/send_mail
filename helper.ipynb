{
 "cells": [
  {
   "cell_type": "code",
   "execution_count": 1,
   "id": "bigger-cattle",
   "metadata": {},
   "outputs": [],
   "source": [
    "import os.path                                      # -> 경로 정보를 취득하기 위한 모듈\n",
    "from smtplib import SMTP                            # -> 발송서버와 연동하기 위한 모듈\n",
    "from email.mime.text import MIMEText                # -> 본문 구성 기능\n",
    "from email.mime.application import MIMEApplication  # -> 파일을 Multipart 형식으로 변환\n",
    "from email.mime.multipart import MIMEMultipart      # -> 파일을 본문에 추가하는 기능 제공"
   ]
  },
  {
   "cell_type": "code",
   "execution_count": 4,
   "id": "hidden-directive",
   "metadata": {},
   "outputs": [],
   "source": [
    "# 메일발송 함수 정의\n",
    "def sendmail(from_addr, to_addr, subject, content, files=[])\n",
    "    #--------------------------------\n",
    "    # 발송정보 설정\n",
    "    #--------------------------------\n",
    "    content_type = \"html\"             #컨텐츠 형식 (text or html)\n",
    "    username = 'allenchoi833@gmail.com' # 구글 메일 주소\n",
    "    password = 'ebxnvvevydnxzsek'     # 구글 비밀번호 (임시발급받은비밀번호 \n",
    "    smtp = 'smtp.gmail.com'           # 구글 발송 서버 주소 (고정값)\n",
    "    port = 587                        # 구글 발송 서버 포트 (고정값)\n",
    "    #--------------------------------\n",
    "    # 발송정보 구성\n",
    "    #--------------------------------\n",
    "    msg = MIMEMultipart()\n",
    "    msg['Subject'] = subject\n",
    "    msg['From'] = from_addr\n",
    "    msg['To'] = to_addr\n",
    "\n",
    "    # 본문 설정\n",
    "    msg.attach(MIMEText(content, content_type))\n",
    "    #--------------------------------\n",
    "    # 파일첨부\n",
    "    #--------------------------------\n",
    "    # 리스트 변수의 원소가 하나라도 존재할 경우 True\n",
    "    if files:\n",
    "        for f in files:\n",
    "            # 바이너리(b) 형식으로 읽기(r)\n",
    "            with open(f, 'rb') as a_file:\n",
    "                # 전체 경로에서 파일의 이름만 추출\n",
    "                # -> ex) D:\\\\hello\\\\world\\\\python.zip --> python.zip\n",
    "                basename = os.path.basename(f)\n",
    "                # 파일의 내용과 파일이름을 메일에 첨부할 형식으로 변환\n",
    "                part = MIMEApplication(a_file.read(), Name=basename)\n",
    "\n",
    "                # 파일첨부\n",
    "                part['Content-Disposition'] = 'attachment; filename=\"%s\"' % basename\n",
    "                msg.attach(part)\n",
    "    #--------------------------------\n",
    "    # 메일 보내기\n",
    "    #--------------------------------\n",
    "    mail = SMTP(smtp)\n",
    "    # 메일 서버 접속\n",
    "    mail.ehlo()\n",
    "    # 메일 서버 연동 설정\n",
    "    mail.starttls()\n",
    "    # 메일 서버 로그인\n",
    "    mail.login(username, password)\n",
    "    # 메일 보내기\n",
    "    mail.sendmail(from_addr, to_addr, msg.as_string())\n",
    "    # 메일 서버 접속 종료\n",
    "    mail.quit()"
   ]
  },
  {
   "cell_type": "code",
   "execution_count": null,
   "id": "turkish-sweet",
   "metadata": {},
   "outputs": [],
   "source": []
  }
 ],
 "metadata": {
  "kernelspec": {
   "display_name": "Python 3",
   "language": "python",
   "name": "python3"
  },
  "language_info": {
   "codemirror_mode": {
    "name": "ipython",
    "version": 3
   },
   "file_extension": ".py",
   "mimetype": "text/x-python",
   "name": "python",
   "nbconvert_exporter": "python",
   "pygments_lexer": "ipython3",
   "version": "3.8.8"
  }
 },
 "nbformat": 4,
 "nbformat_minor": 5
}
