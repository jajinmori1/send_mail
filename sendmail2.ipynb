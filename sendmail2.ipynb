{
 "cells": [
  {
   "cell_type": "markdown",
   "id": "demanding-strengthening",
   "metadata": {},
   "source": [
    "### 준비된 모듈을 통한 메일 발송 기능 확인\n",
    " 앞 단원의 코드를 활용하여 발송정보를 구성하고\n",
    " 24라인에서 모듈의 함수를 호출하여 메일 발송을 구현하고 있다."
   ]
  },
  {
   "cell_type": "code",
   "execution_count": 7,
   "id": "dimensional-nightmare",
   "metadata": {},
   "outputs": [],
   "source": [
    "# 헬퍼에 정의된 함수 참조\n",
    "from helper import sendmail\n",
    "\n",
    "from_addr = \"allenchoi833@gmail.com\"\n",
    "to_addr = \"yds01243@naver.com\"\n",
    "subject = '안녕하세용'\n",
    "\n",
    "# 메일 본문 설정 -> HTML코드 형식\n",
    "content = \"\"\"<html>\n",
    "    <head></head>\n",
    "    <body>\n",
    "     <p>Hi!<br>\n",
    "         How are you?<br>\n",
    "         Here is the <a href=\"http://www.python.org\">link</a> you wanted.\n",
    "     </p>\n",
    "    </body>\n",
    "</html>\"\"\"\n",
    "\n",
    "# helper 모듈 안에 있는 함수 호출\n",
    "# -> 첨부파일이 없는 경우 마지막 파라미터 생략 가능\n",
    "sendmail(from_addr, to_addr, subject, content)"
   ]
  },
  {
   "cell_type": "code",
   "execution_count": null,
   "id": "daily-national",
   "metadata": {},
   "outputs": [],
   "source": []
  }
 ],
 "metadata": {
  "kernelspec": {
   "display_name": "Python 3",
   "language": "python",
   "name": "python3"
  },
  "language_info": {
   "codemirror_mode": {
    "name": "ipython",
    "version": 3
   },
   "file_extension": ".py",
   "mimetype": "text/x-python",
   "name": "python",
   "nbconvert_exporter": "python",
   "pygments_lexer": "ipython3",
   "version": "3.8.8"
  }
 },
 "nbformat": 4,
 "nbformat_minor": 5
}
