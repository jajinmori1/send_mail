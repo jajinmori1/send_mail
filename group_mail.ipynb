{
 "cells": [
  {
   "cell_type": "markdown",
   "id": "vietnamese-residence",
   "metadata": {},
   "source": [
    "### 기능 구현을 위한 모듈 참조와 구현 절차 확인"
   ]
  },
  {
   "cell_type": "code",
   "execution_count": 2,
   "id": "norman-partner",
   "metadata": {},
   "outputs": [],
   "source": [
    "# 헬퍼에 정의된 함수 참조\n",
    "from helper import sendmail\n",
    "# 날짜 처리 모듈\n",
    "import datetime as dt"
   ]
  },
  {
   "cell_type": "markdown",
   "id": "growing-array",
   "metadata": {},
   "source": [
    "### 발송을 위한 정보 준비하기"
   ]
  },
  {
   "cell_type": "code",
   "execution_count": 12,
   "id": "collectible-leonard",
   "metadata": {
    "tags": []
   },
   "outputs": [
    {
     "name": "stdout",
     "output_type": "stream",
     "text": [
      "<!DOCTYPE html>\n",
      "<html lang=\"ko\">\n",
      "<head>\n",
      "    <meta charset=\"UTF-8\">\n",
      "</head>\n",
      "<body>\n",
      "    <h3>안녕하세요 {name}님</h3>\n",
      "    <p>{yy}년도 {mm}월 급여명세서와 결산보고서 보내드립니다.</p>\n",
      "    <p>귀하의 노고에 감사드립니다.</p>\n",
      "    <p><img src=\"http://jhj-group.com/board/data/file/bbs03/238332718_SXKsDib0_74389dcafbaec459151b1777a342d27956b21813.gif\" /></p>\n",
      "    <hr />\n",
      "    <p align=\"right\">운영지원팀 드림</p>\n",
      "</body>\n",
      "</html>\n",
      "\n",
      "{0}/{1} >> {2}({3})님께 메일을 발송했습니다.\n",
      "1/5 >> Python학생1(yds01243@naver.com)님께 메일을 발송했습니다.\n",
      "2/5 >> Python학생2(yds01243@naver.com)님께 메일을 발송했습니다.\n",
      "3/5 >> Python학생3(yds01243@naver.com)님께 메일을 발송했습니다.\n",
      "4/5 >> Python학생4(tjddms96@naver.com)님께 메일을 발송했습니다.\n",
      "5/5 >> Python학생5(tjddms96@naver.com)님께 메일을 발송했습니다.\n"
     ]
    }
   ],
   "source": [
    "# 이번년도와 월 얻기\n",
    "now_time = dt.datetime.now()\n",
    "now_year = now_time.year\n",
    "now_month = now_time.month\n",
    "\n",
    "# 발송자 주소, 메일 제목\n",
    "from_addr = \"allenchoi@gmail.com\"\n",
    "subject_tpl = '{name}님의 {yy}년 {mm}월 급여명세서 입니다.'\n",
    "\n",
    "# 메일 본문은 HTML파일 읽기\n",
    "with open(\"mail/content.html\", \"r\", encoding='utf-8') as f:\n",
    "    content_tpl = f.read()\n",
    "    print(content_tpl)\n",
    "# 수신자 목록에 대한 CSV파일 읽기\n",
    "with open(\"mail/mail_list.csv\", \"r\", encoding='euc-kr') as f:\n",
    "    csv_data = f.readlines()        # 전체 내용을 리스트로 읽어옴\n",
    "    count = len(csv_data)           # 전체 행 수\n",
    "    \n",
    "    # 결과 출력을 위한 문자열 템플릿\n",
    "    result_tpl = \"{0}/{1} >> {2}({3})님께 메일을 발송했습니다.\"\n",
    "    print(result_tpl)\n",
    "    # 리스트 행 수 만큼 반복 -> i에는 인덱스, line은 한 행의 문자열이 저장됨\n",
    "    for i, line in enumerate(csv_data):\n",
    "        #리스트 행 수 만큼 반복 -> i에는 인덱스, line은 한 행의 문자열이 저장됨\n",
    "        item = line.strip().split(\",\")\n",
    "        to_name = item[0].strip()\n",
    "        to_addr = item[1].strip()\n",
    "        file1 = item[2].strip()\n",
    "        file2 = item[3].strip()\n",
    "        \n",
    "        # 제목과 내용에 포함된 {이름} 형식의 치환자에 변수값 적용\n",
    "        # -> '{name}님이ㅡ {yy}년 {mm}월 급여명세서 입니다.'\n",
    "        subject = subject_tpl.format(name=to_name, yy=now_year, mm=now_month)\n",
    "        content = content_tpl.format(name=to_name, yy=now_year, mm=now_month)\n",
    "        \n",
    "        # 메일을 발송한다.\n",
    "        sendmail(from_addr, to_addr, subject, content, [file1, file2])\n",
    "        \n",
    "        # 결과 출력\n",
    "        print(result_tpl.format(i+1, count, to_name, to_addr))"
   ]
  },
  {
   "cell_type": "markdown",
   "id": "ranking-idaho",
   "metadata": {},
   "source": [
    "### 메일링 리스트가 명시된 csv 파일 읽기"
   ]
  },
  {
   "cell_type": "code",
   "execution_count": 6,
   "id": "weekly-township",
   "metadata": {
    "collapsed": true,
    "jupyter": {
     "outputs_hidden": true
    },
    "tags": []
   },
   "outputs": [
    {
     "ename": "UnicodeEncodeError",
     "evalue": "'ascii' codec can't encode characters in position 11-17: ordinal not in range(128)",
     "output_type": "error",
     "traceback": [
      "\u001b[1;31m---------------------------------------------------------------------------\u001b[0m",
      "\u001b[1;31mUnicodeEncodeError\u001b[0m                        Traceback (most recent call last)",
      "\u001b[1;32m<ipython-input-6-8b2c40d7fb9d>\u001b[0m in \u001b[0;36m<module>\u001b[1;34m\u001b[0m\n\u001b[0;32m     22\u001b[0m \u001b[1;33m\u001b[0m\u001b[0m\n\u001b[0;32m     23\u001b[0m         \u001b[1;31m# 메일을 발송한다.\u001b[0m\u001b[1;33m\u001b[0m\u001b[1;33m\u001b[0m\u001b[1;33m\u001b[0m\u001b[0m\n\u001b[1;32m---> 24\u001b[1;33m         \u001b[0msendmail\u001b[0m\u001b[1;33m(\u001b[0m\u001b[0mfrom_addr\u001b[0m\u001b[1;33m,\u001b[0m \u001b[0mto_addr\u001b[0m\u001b[1;33m,\u001b[0m \u001b[0msubject\u001b[0m\u001b[1;33m,\u001b[0m \u001b[0mcontent\u001b[0m\u001b[1;33m,\u001b[0m \u001b[1;33m[\u001b[0m\u001b[0mfile1\u001b[0m\u001b[1;33m,\u001b[0m \u001b[0mfile2\u001b[0m\u001b[1;33m]\u001b[0m\u001b[1;33m)\u001b[0m\u001b[1;33m\u001b[0m\u001b[1;33m\u001b[0m\u001b[0m\n\u001b[0m\u001b[0;32m     25\u001b[0m \u001b[1;33m\u001b[0m\u001b[0m\n\u001b[0;32m     26\u001b[0m         \u001b[1;31m# 결과 출력\u001b[0m\u001b[1;33m\u001b[0m\u001b[1;33m\u001b[0m\u001b[1;33m\u001b[0m\u001b[0m\n",
      "\u001b[1;32mC:\\python\\section07\\helper.py\u001b[0m in \u001b[0;36msendmail\u001b[1;34m(from_addr, to_addr, subject, content, files)\u001b[0m\n\u001b[0;32m     63\u001b[0m     \u001b[0mmail\u001b[0m\u001b[1;33m.\u001b[0m\u001b[0mlogin\u001b[0m\u001b[1;33m(\u001b[0m\u001b[0musername\u001b[0m\u001b[1;33m,\u001b[0m \u001b[0mpassword\u001b[0m\u001b[1;33m)\u001b[0m\u001b[1;33m\u001b[0m\u001b[1;33m\u001b[0m\u001b[0m\n\u001b[0;32m     64\u001b[0m     \u001b[1;31m# 메일 보내기\u001b[0m\u001b[1;33m\u001b[0m\u001b[1;33m\u001b[0m\u001b[1;33m\u001b[0m\u001b[0m\n\u001b[1;32m---> 65\u001b[1;33m     \u001b[0mmail\u001b[0m\u001b[1;33m.\u001b[0m\u001b[0msendmail\u001b[0m\u001b[1;33m(\u001b[0m\u001b[0mfrom_addr\u001b[0m\u001b[1;33m,\u001b[0m \u001b[0mto_addr\u001b[0m\u001b[1;33m,\u001b[0m \u001b[0mmsg\u001b[0m\u001b[1;33m.\u001b[0m\u001b[0mas_string\u001b[0m\u001b[1;33m(\u001b[0m\u001b[1;33m)\u001b[0m\u001b[1;33m)\u001b[0m\u001b[1;33m\u001b[0m\u001b[1;33m\u001b[0m\u001b[0m\n\u001b[0m\u001b[0;32m     66\u001b[0m     \u001b[1;31m# 메일 서버 접속 종료\u001b[0m\u001b[1;33m\u001b[0m\u001b[1;33m\u001b[0m\u001b[1;33m\u001b[0m\u001b[0m\n\u001b[0;32m     67\u001b[0m     \u001b[0mmail\u001b[0m\u001b[1;33m.\u001b[0m\u001b[0mquit\u001b[0m\u001b[1;33m(\u001b[0m\u001b[1;33m)\u001b[0m\u001b[1;33m\u001b[0m\u001b[1;33m\u001b[0m\u001b[0m\n",
      "\u001b[1;32mc:\\users\\pc\\appdata\\local\\programs\\python\\python38\\lib\\smtplib.py\u001b[0m in \u001b[0;36msendmail\u001b[1;34m(self, from_addr, to_addrs, msg, mail_options, rcpt_options)\u001b[0m\n\u001b[0;32m    861\u001b[0m             \u001b[1;32mfor\u001b[0m \u001b[0moption\u001b[0m \u001b[1;32min\u001b[0m \u001b[0mmail_options\u001b[0m\u001b[1;33m:\u001b[0m\u001b[1;33m\u001b[0m\u001b[1;33m\u001b[0m\u001b[0m\n\u001b[0;32m    862\u001b[0m                 \u001b[0mesmtp_opts\u001b[0m\u001b[1;33m.\u001b[0m\u001b[0mappend\u001b[0m\u001b[1;33m(\u001b[0m\u001b[0moption\u001b[0m\u001b[1;33m)\u001b[0m\u001b[1;33m\u001b[0m\u001b[1;33m\u001b[0m\u001b[0m\n\u001b[1;32m--> 863\u001b[1;33m         \u001b[1;33m(\u001b[0m\u001b[0mcode\u001b[0m\u001b[1;33m,\u001b[0m \u001b[0mresp\u001b[0m\u001b[1;33m)\u001b[0m \u001b[1;33m=\u001b[0m \u001b[0mself\u001b[0m\u001b[1;33m.\u001b[0m\u001b[0mmail\u001b[0m\u001b[1;33m(\u001b[0m\u001b[0mfrom_addr\u001b[0m\u001b[1;33m,\u001b[0m \u001b[0mesmtp_opts\u001b[0m\u001b[1;33m)\u001b[0m\u001b[1;33m\u001b[0m\u001b[1;33m\u001b[0m\u001b[0m\n\u001b[0m\u001b[0;32m    864\u001b[0m         \u001b[1;32mif\u001b[0m \u001b[0mcode\u001b[0m \u001b[1;33m!=\u001b[0m \u001b[1;36m250\u001b[0m\u001b[1;33m:\u001b[0m\u001b[1;33m\u001b[0m\u001b[1;33m\u001b[0m\u001b[0m\n\u001b[0;32m    865\u001b[0m             \u001b[1;32mif\u001b[0m \u001b[0mcode\u001b[0m \u001b[1;33m==\u001b[0m \u001b[1;36m421\u001b[0m\u001b[1;33m:\u001b[0m\u001b[1;33m\u001b[0m\u001b[1;33m\u001b[0m\u001b[0m\n",
      "\u001b[1;32mc:\\users\\pc\\appdata\\local\\programs\\python\\python38\\lib\\smtplib.py\u001b[0m in \u001b[0;36mmail\u001b[1;34m(self, sender, options)\u001b[0m\n\u001b[0;32m    534\u001b[0m                         'SMTPUTF8 not supported by server')\n\u001b[0;32m    535\u001b[0m             \u001b[0moptionlist\u001b[0m \u001b[1;33m=\u001b[0m \u001b[1;34m' '\u001b[0m \u001b[1;33m+\u001b[0m \u001b[1;34m' '\u001b[0m\u001b[1;33m.\u001b[0m\u001b[0mjoin\u001b[0m\u001b[1;33m(\u001b[0m\u001b[0moptions\u001b[0m\u001b[1;33m)\u001b[0m\u001b[1;33m\u001b[0m\u001b[1;33m\u001b[0m\u001b[0m\n\u001b[1;32m--> 536\u001b[1;33m         \u001b[0mself\u001b[0m\u001b[1;33m.\u001b[0m\u001b[0mputcmd\u001b[0m\u001b[1;33m(\u001b[0m\u001b[1;34m\"mail\"\u001b[0m\u001b[1;33m,\u001b[0m \u001b[1;34m\"FROM:%s%s\"\u001b[0m \u001b[1;33m%\u001b[0m \u001b[1;33m(\u001b[0m\u001b[0mquoteaddr\u001b[0m\u001b[1;33m(\u001b[0m\u001b[0msender\u001b[0m\u001b[1;33m)\u001b[0m\u001b[1;33m,\u001b[0m \u001b[0moptionlist\u001b[0m\u001b[1;33m)\u001b[0m\u001b[1;33m)\u001b[0m\u001b[1;33m\u001b[0m\u001b[1;33m\u001b[0m\u001b[0m\n\u001b[0m\u001b[0;32m    537\u001b[0m         \u001b[1;32mreturn\u001b[0m \u001b[0mself\u001b[0m\u001b[1;33m.\u001b[0m\u001b[0mgetreply\u001b[0m\u001b[1;33m(\u001b[0m\u001b[1;33m)\u001b[0m\u001b[1;33m\u001b[0m\u001b[1;33m\u001b[0m\u001b[0m\n\u001b[0;32m    538\u001b[0m \u001b[1;33m\u001b[0m\u001b[0m\n",
      "\u001b[1;32mc:\\users\\pc\\appdata\\local\\programs\\python\\python38\\lib\\smtplib.py\u001b[0m in \u001b[0;36mputcmd\u001b[1;34m(self, cmd, args)\u001b[0m\n\u001b[0;32m    367\u001b[0m         \u001b[1;32melse\u001b[0m\u001b[1;33m:\u001b[0m\u001b[1;33m\u001b[0m\u001b[1;33m\u001b[0m\u001b[0m\n\u001b[0;32m    368\u001b[0m             \u001b[0mstr\u001b[0m \u001b[1;33m=\u001b[0m \u001b[1;34m'%s %s%s'\u001b[0m \u001b[1;33m%\u001b[0m \u001b[1;33m(\u001b[0m\u001b[0mcmd\u001b[0m\u001b[1;33m,\u001b[0m \u001b[0margs\u001b[0m\u001b[1;33m,\u001b[0m \u001b[0mCRLF\u001b[0m\u001b[1;33m)\u001b[0m\u001b[1;33m\u001b[0m\u001b[1;33m\u001b[0m\u001b[0m\n\u001b[1;32m--> 369\u001b[1;33m         \u001b[0mself\u001b[0m\u001b[1;33m.\u001b[0m\u001b[0msend\u001b[0m\u001b[1;33m(\u001b[0m\u001b[0mstr\u001b[0m\u001b[1;33m)\u001b[0m\u001b[1;33m\u001b[0m\u001b[1;33m\u001b[0m\u001b[0m\n\u001b[0m\u001b[0;32m    370\u001b[0m \u001b[1;33m\u001b[0m\u001b[0m\n\u001b[0;32m    371\u001b[0m     \u001b[1;32mdef\u001b[0m \u001b[0mgetreply\u001b[0m\u001b[1;33m(\u001b[0m\u001b[0mself\u001b[0m\u001b[1;33m)\u001b[0m\u001b[1;33m:\u001b[0m\u001b[1;33m\u001b[0m\u001b[1;33m\u001b[0m\u001b[0m\n",
      "\u001b[1;32mc:\\users\\pc\\appdata\\local\\programs\\python\\python38\\lib\\smtplib.py\u001b[0m in \u001b[0;36msend\u001b[1;34m(self, s)\u001b[0m\n\u001b[0;32m    351\u001b[0m                 \u001b[1;31m# should not be used, but 'data' needs to convert the string to\u001b[0m\u001b[1;33m\u001b[0m\u001b[1;33m\u001b[0m\u001b[1;33m\u001b[0m\u001b[0m\n\u001b[0;32m    352\u001b[0m                 \u001b[1;31m# binary itself anyway, so that's not a problem.\u001b[0m\u001b[1;33m\u001b[0m\u001b[1;33m\u001b[0m\u001b[1;33m\u001b[0m\u001b[0m\n\u001b[1;32m--> 353\u001b[1;33m                 \u001b[0ms\u001b[0m \u001b[1;33m=\u001b[0m \u001b[0ms\u001b[0m\u001b[1;33m.\u001b[0m\u001b[0mencode\u001b[0m\u001b[1;33m(\u001b[0m\u001b[0mself\u001b[0m\u001b[1;33m.\u001b[0m\u001b[0mcommand_encoding\u001b[0m\u001b[1;33m)\u001b[0m\u001b[1;33m\u001b[0m\u001b[1;33m\u001b[0m\u001b[0m\n\u001b[0m\u001b[0;32m    354\u001b[0m             \u001b[0msys\u001b[0m\u001b[1;33m.\u001b[0m\u001b[0maudit\u001b[0m\u001b[1;33m(\u001b[0m\u001b[1;34m\"smtplib.send\"\u001b[0m\u001b[1;33m,\u001b[0m \u001b[0mself\u001b[0m\u001b[1;33m,\u001b[0m \u001b[0ms\u001b[0m\u001b[1;33m)\u001b[0m\u001b[1;33m\u001b[0m\u001b[1;33m\u001b[0m\u001b[0m\n\u001b[0;32m    355\u001b[0m             \u001b[1;32mtry\u001b[0m\u001b[1;33m:\u001b[0m\u001b[1;33m\u001b[0m\u001b[1;33m\u001b[0m\u001b[0m\n",
      "\u001b[1;31mUnicodeEncodeError\u001b[0m: 'ascii' codec can't encode characters in position 11-17: ordinal not in range(128)"
     ]
    }
   ],
   "source": [
    "# 수신자 목록에 대한 CSV파일 읽기\n",
    "with open(\"mail/mail_list.csv\", \"r\", encoding='euc-kr') as f:\n",
    "    csv_data = f.readlines()        # 전체 내용을 리스트로 읽어옴\n",
    "    count = len(csv_data)           # 전체 행 수\n",
    "    \n",
    "    # 결과 출력을 위한 문자열 템플릿\n",
    "    result_tpl = \"{0}/{1} >> {2}({3})님께 메일을 발송했습니다.\"\n",
    "    \n",
    "    # 리스트 행 수 만큼 반복 -> i에는 인덱스, line은 한 행의 문자열이 저장됨\n",
    "    for i, line in enumerate(csv_data):\n",
    "        #리스트 행 수 만큼 반복 -> i에는 인덱스, line은 한 행의 문자열이 저장됨\n",
    "        item = line.strip().split(\",\")\n",
    "        to_name = item[0].strip()\n",
    "        to_addr = item[1].strip()\n",
    "        file1 = item[2].strip()\n",
    "        file2 = item[3].strip()\n",
    "        \n",
    "        # 제목과 내용에 포함된 {이름} 형식의 치환자에 변수값 적용\n",
    "        # -> '{name}님이ㅡ {yy}년 {mm}월 급여명세서 입니다.'\n",
    "        subject = subject_tpl.format(name=to_name, yy=now_year, mm=now_month)\n",
    "        content = content_tpl.format(name=to_name, yy=now_year, mm=now_month)\n",
    "        \n",
    "        # 메일을 발송한다.\n",
    "        sendmail(from_addr, to_addr, subject, content, [file1, file2])\n",
    "        \n",
    "        # 결과 출력\n",
    "        print(result_tpl.format(i+1, count, to_name, to_addr))"
   ]
  },
  {
   "cell_type": "code",
   "execution_count": null,
   "id": "returning-ordering",
   "metadata": {},
   "outputs": [],
   "source": []
  }
 ],
 "metadata": {
  "kernelspec": {
   "display_name": "Python 3",
   "language": "python",
   "name": "python3"
  },
  "language_info": {
   "codemirror_mode": {
    "name": "ipython",
    "version": 3
   },
   "file_extension": ".py",
   "mimetype": "text/x-python",
   "name": "python",
   "nbconvert_exporter": "python",
   "pygments_lexer": "ipython3",
   "version": "3.8.8"
  }
 },
 "nbformat": 4,
 "nbformat_minor": 5
}
